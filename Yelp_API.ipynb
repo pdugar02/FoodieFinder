{
  "cells": [
    {
      "cell_type": "markdown",
      "metadata": {
        "colab_type": "text",
        "id": "view-in-github"
      },
      "source": [
        "<a href=\"https://colab.research.google.com/github/aravs1/Foodie-Finder/blob/main/Yelp_API.ipynb\" target=\"_parent\"><img src=\"https://colab.research.google.com/assets/colab-badge.svg\" alt=\"Open In Colab\"/></a>"
      ]
    },
    {
      "cell_type": "code",
      "execution_count": 1,
      "metadata": {
        "colab": {
          "base_uri": "https://localhost:8080/",
          "height": 519
        },
        "id": "ZHcQn31RQ90v",
        "outputId": "5190bb67-03f3-4a46-8cf4-9013064fd614"
      },
      "outputs": [
        {
          "ename": "KeyboardInterrupt",
          "evalue": "",
          "output_type": "error",
          "traceback": [
            "\u001b[0;31m---------------------------------------------------------------------------\u001b[0m",
            "\u001b[0;31mKeyboardInterrupt\u001b[0m                         Traceback (most recent call last)",
            "Cell \u001b[0;32mIn[1], line 66\u001b[0m\n\u001b[1;32m     63\u001b[0m         time\u001b[38;5;241m.\u001b[39msleep(\u001b[38;5;241m0.1\u001b[39m)\n\u001b[1;32m     65\u001b[0m     \u001b[38;5;66;03m# Create a DataFrame from the combined business and review data\u001b[39;00m\n\u001b[0;32m---> 66\u001b[0m     df \u001b[38;5;241m=\u001b[39m \u001b[43mpd\u001b[49m\u001b[38;5;241;43m.\u001b[39;49m\u001b[43mDataFrame\u001b[49m\u001b[43m(\u001b[49m\u001b[43mbusiness_data\u001b[49m\u001b[43m)\u001b[49m\n\u001b[1;32m     68\u001b[0m     \u001b[38;5;66;03m# Display the DataFrame with reviews\u001b[39;00m\n\u001b[1;32m     69\u001b[0m \u001b[38;5;28;01melse\u001b[39;00m:\n\u001b[1;32m     70\u001b[0m     \u001b[38;5;28mprint\u001b[39m(\u001b[38;5;124mf\u001b[39m\u001b[38;5;124m\"\u001b[39m\u001b[38;5;124mFailed to retrieve businesses: \u001b[39m\u001b[38;5;132;01m{\u001b[39;00mresponse\u001b[38;5;241m.\u001b[39mstatus_code\u001b[38;5;132;01m}\u001b[39;00m\u001b[38;5;124m\"\u001b[39m)\n",
            "File \u001b[0;32m~/opt/anaconda3/lib/python3.11/site-packages/pandas/core/frame.py:814\u001b[0m, in \u001b[0;36mDataFrame.__init__\u001b[0;34m(self, data, index, columns, dtype, copy)\u001b[0m\n\u001b[1;32m    805\u001b[0m         columns \u001b[39m=\u001b[39m ensure_index(columns)\n\u001b[1;32m    806\u001b[0m     arrays, columns, index \u001b[39m=\u001b[39m nested_data_to_arrays(\n\u001b[1;32m    807\u001b[0m         \u001b[39m# error: Argument 3 to \"nested_data_to_arrays\" has incompatible\u001b[39;00m\n\u001b[1;32m    808\u001b[0m         \u001b[39m# type \"Optional[Collection[Any]]\"; expected \"Optional[Index]\"\u001b[39;00m\n\u001b[0;32m   (...)\u001b[0m\n\u001b[1;32m    812\u001b[0m         dtype,\n\u001b[1;32m    813\u001b[0m     )\n\u001b[0;32m--> 814\u001b[0m     mgr \u001b[39m=\u001b[39m arrays_to_mgr(\n\u001b[1;32m    815\u001b[0m         arrays,\n\u001b[1;32m    816\u001b[0m         columns,\n\u001b[1;32m    817\u001b[0m         index,\n\u001b[1;32m    818\u001b[0m         dtype\u001b[39m=\u001b[39;49mdtype,\n\u001b[1;32m    819\u001b[0m         typ\u001b[39m=\u001b[39;49mmanager,\n\u001b[1;32m    820\u001b[0m     )\n\u001b[1;32m    821\u001b[0m \u001b[39melse\u001b[39;00m:\n\u001b[1;32m    822\u001b[0m     mgr \u001b[39m=\u001b[39m ndarray_to_mgr(\n\u001b[1;32m    823\u001b[0m         data,\n\u001b[1;32m    824\u001b[0m         index,\n\u001b[0;32m   (...)\u001b[0m\n\u001b[1;32m    828\u001b[0m         typ\u001b[39m=\u001b[39mmanager,\n\u001b[1;32m    829\u001b[0m     )\n",
            "File \u001b[0;32m~/opt/anaconda3/lib/python3.11/site-packages/pandas/core/internals/construction.py:152\u001b[0m, in \u001b[0;36marrays_to_mgr\u001b[0;34m(arrays, columns, index, dtype, verify_integrity, typ, consolidate)\u001b[0m\n\u001b[1;32m    149\u001b[0m axes \u001b[39m=\u001b[39m [columns, index]\n\u001b[1;32m    151\u001b[0m \u001b[39mif\u001b[39;00m typ \u001b[39m==\u001b[39m \u001b[39m\"\u001b[39m\u001b[39mblock\u001b[39m\u001b[39m\"\u001b[39m:\n\u001b[0;32m--> 152\u001b[0m     \u001b[39mreturn\u001b[39;00m create_block_manager_from_column_arrays(\n\u001b[1;32m    153\u001b[0m         arrays, axes, consolidate\u001b[39m=\u001b[39;49mconsolidate, refs\u001b[39m=\u001b[39;49mrefs\n\u001b[1;32m    154\u001b[0m     )\n\u001b[1;32m    155\u001b[0m \u001b[39melif\u001b[39;00m typ \u001b[39m==\u001b[39m \u001b[39m\"\u001b[39m\u001b[39marray\u001b[39m\u001b[39m\"\u001b[39m:\n\u001b[1;32m    156\u001b[0m     \u001b[39mreturn\u001b[39;00m ArrayManager(arrays, [index, columns])\n",
            "File \u001b[0;32m~/opt/anaconda3/lib/python3.11/site-packages/pandas/core/internals/managers.py:2091\u001b[0m, in \u001b[0;36mcreate_block_manager_from_column_arrays\u001b[0;34m(arrays, axes, consolidate, refs)\u001b[0m\n\u001b[1;32m   2089\u001b[0m     raise_construction_error(\u001b[39mlen\u001b[39m(arrays), arrays[\u001b[39m0\u001b[39m]\u001b[39m.\u001b[39mshape, axes, e)\n\u001b[1;32m   2090\u001b[0m \u001b[39mif\u001b[39;00m consolidate:\n\u001b[0;32m-> 2091\u001b[0m     mgr\u001b[39m.\u001b[39;49m_consolidate_inplace()\n\u001b[1;32m   2092\u001b[0m \u001b[39mreturn\u001b[39;00m mgr\n",
            "File \u001b[0;32m~/opt/anaconda3/lib/python3.11/site-packages/pandas/core/internals/managers.py:1750\u001b[0m, in \u001b[0;36mBlockManager._consolidate_inplace\u001b[0;34m(self)\u001b[0m\n\u001b[1;32m   1744\u001b[0m \u001b[39mdef\u001b[39;00m \u001b[39m_consolidate_inplace\u001b[39m(\u001b[39mself\u001b[39m) \u001b[39m-\u001b[39m\u001b[39m>\u001b[39m \u001b[39mNone\u001b[39;00m:\n\u001b[1;32m   1745\u001b[0m     \u001b[39m# In general, _consolidate_inplace should only be called via\u001b[39;00m\n\u001b[1;32m   1746\u001b[0m     \u001b[39m#  DataFrame._consolidate_inplace, otherwise we will fail to invalidate\u001b[39;00m\n\u001b[1;32m   1747\u001b[0m     \u001b[39m#  the DataFrame's _item_cache. The exception is for newly-created\u001b[39;00m\n\u001b[1;32m   1748\u001b[0m     \u001b[39m#  BlockManager objects not yet attached to a DataFrame.\u001b[39;00m\n\u001b[1;32m   1749\u001b[0m     \u001b[39mif\u001b[39;00m \u001b[39mnot\u001b[39;00m \u001b[39mself\u001b[39m\u001b[39m.\u001b[39mis_consolidated():\n\u001b[0;32m-> 1750\u001b[0m         \u001b[39mself\u001b[39m\u001b[39m.\u001b[39mblocks \u001b[39m=\u001b[39m _consolidate(\u001b[39mself\u001b[39;49m\u001b[39m.\u001b[39;49mblocks)\n\u001b[1;32m   1751\u001b[0m         \u001b[39mself\u001b[39m\u001b[39m.\u001b[39m_is_consolidated \u001b[39m=\u001b[39m \u001b[39mTrue\u001b[39;00m\n\u001b[1;32m   1752\u001b[0m         \u001b[39mself\u001b[39m\u001b[39m.\u001b[39m_known_consolidated \u001b[39m=\u001b[39m \u001b[39mTrue\u001b[39;00m\n",
            "File \u001b[0;32m~/opt/anaconda3/lib/python3.11/site-packages/pandas/core/internals/managers.py:2217\u001b[0m, in \u001b[0;36m_consolidate\u001b[0;34m(blocks)\u001b[0m\n\u001b[1;32m   2215\u001b[0m new_blocks: \u001b[39mlist\u001b[39m[Block] \u001b[39m=\u001b[39m []\n\u001b[1;32m   2216\u001b[0m \u001b[39mfor\u001b[39;00m (_can_consolidate, dtype), group_blocks \u001b[39min\u001b[39;00m grouper:\n\u001b[0;32m-> 2217\u001b[0m     merged_blocks, _ \u001b[39m=\u001b[39m _merge_blocks(\n\u001b[1;32m   2218\u001b[0m         \u001b[39mlist\u001b[39;49m(group_blocks), dtype\u001b[39m=\u001b[39;49mdtype, can_consolidate\u001b[39m=\u001b[39;49m_can_consolidate\n\u001b[1;32m   2219\u001b[0m     )\n\u001b[1;32m   2220\u001b[0m     new_blocks \u001b[39m=\u001b[39m extend_blocks(merged_blocks, new_blocks)\n\u001b[1;32m   2221\u001b[0m \u001b[39mreturn\u001b[39;00m \u001b[39mtuple\u001b[39m(new_blocks)\n",
            "File \u001b[0;32m~/opt/anaconda3/lib/python3.11/site-packages/pandas/core/internals/managers.py:2252\u001b[0m, in \u001b[0;36m_merge_blocks\u001b[0;34m(blocks, dtype, can_consolidate)\u001b[0m\n\u001b[1;32m   2249\u001b[0m     new_values \u001b[39m=\u001b[39m new_values[argsort]\n\u001b[1;32m   2250\u001b[0m     new_mgr_locs \u001b[39m=\u001b[39m new_mgr_locs[argsort]\n\u001b[0;32m-> 2252\u001b[0m     bp \u001b[39m=\u001b[39m BlockPlacement(new_mgr_locs)\n\u001b[1;32m   2253\u001b[0m     \u001b[39mreturn\u001b[39;00m [new_block_2d(new_values, placement\u001b[39m=\u001b[39mbp)], \u001b[39mTrue\u001b[39;00m\n\u001b[1;32m   2255\u001b[0m \u001b[39m# can't consolidate --> no merge\u001b[39;00m\n",
            "\u001b[0;31mKeyboardInterrupt\u001b[0m: "
          ]
        }
      ],
      "source": [
        "import requests\n",
        "import pandas as pd\n",
        "import time\n",
        "\n",
        "# API Key\n",
        "API_KEY = \"6ca95wYJMQGrfd-COZR71UxqB7BhxuCSOaurylwvdKjcljEU9hxosKUCx0-0_TTvFNxqmLscQnFSDECaTUXP1YS_bvo8bbU_kQTkzb-_QK4RyjX9DLHAc6fPD8cKZ3Yx\"\n",
        "\n",
        "# API Endpoint and Headers\n",
        "url_business = \"https://api.yelp.com/v3/businesses/search\"\n",
        "url_reviews = \"https://api.yelp.com/v3/businesses/{}/reviews\"\n",
        "headers = {\n",
        "    \"Authorization\": f\"Bearer {API_KEY}\"\n",
        "}\n",
        "\n",
        "# Search Parameters for Yelp API\n",
        "params = {\n",
        "    \"term\": \"restaurants\",\n",
        "    \"location\": \"Berkeley\",\n",
        "    \"limit\": 10,  # Number of businesses to retrieve\n",
        "    \"sort_by\": \"best_match\"\n",
        "}\n",
        "\n",
        "response = requests.get(url_business, headers=headers, params=params)\n",
        "\n",
        "# Check if the request was successful\n",
        "if response.status_code == 200:\n",
        "    data = response.json()\n",
        "\n",
        "    # Extract the list of businesses\n",
        "    businesses = data.get(\"businesses\", [])\n",
        "\n",
        "    # Create an empty list to store business data with reviews\n",
        "    business_data = []\n",
        "\n",
        "    # Loop through each business and get the reviews\n",
        "    for biz in businesses:\n",
        "        # Extract business details\n",
        "        business_info = {\n",
        "            \"Name\": biz[\"name\"],\n",
        "            \"ID\": biz[\"id\"],\n",
        "            \"Location\": \", \".join(biz[\"location\"][\"display_address\"]),\n",
        "            \"Rating\": biz[\"rating\"],\n",
        "            \"Review Count\": biz[\"review_count\"],\n",
        "            \"Phone\": biz[\"phone\"],\n",
        "            \"Price\": biz.get(\"price\", None),\n",
        "            \"Categories\": \", \".join([cat[\"title\"] for cat in biz[\"categories\"]])\n",
        "        }\n",
        "\n",
        "        # Send request to get reviews for the business\n",
        "        review_response = requests.get(url_reviews.format(biz[\"id\"]), headers=headers)\n",
        "\n",
        "        # Check if the review request was successful\n",
        "        if review_response.status_code == 200:\n",
        "            review_data = review_response.json().get(\"reviews\", [])\n",
        "\n",
        "            # Add reviews to business_info\n",
        "            business_info[\"Reviews\"] = \"; \".join([rev[\"text\"] for rev in review_data])\n",
        "\n",
        "        # Append the business information (with reviews) to the list\n",
        "        business_data.append(business_info)\n",
        "\n",
        "        # Add a delay to avoid hitting the API rate limit\n",
        "        time.sleep(0.1)\n",
        "\n",
        "    # Create a DataFrame from the combined business and review data\n",
        "    df = pd.DataFrame(business_data)\n",
        "\n",
        "    # Display the DataFrame with reviews\n",
        "else:\n",
        "    print(f\"Failed to retrieve businesses: {response.status_code}\")\n",
        "\n",
        "\n",
        "df.head(10)\n",
        "# df.to_csv('my_dataframe.csv', index=False)\n",
        "\n",
        "# from google.colab import files\n",
        "# files.download('my_dataframe.csv')\n"
      ]
    },
    {
      "cell_type": "code",
      "execution_count": 3,
      "metadata": {
        "id": "ka4NmNfXYVDj"
      },
      "outputs": [
        {
          "data": {
            "text/plain": [
              "0    Yummy!! Would definitely get the pasta & tosta...\n",
              "1    Went here for date night and really enjoyed th...\n",
              "2    The new owners did a nice job with the menu an...\n",
              "3    I personally enjoyed the restaurant's signatur...\n",
              "4    Ambiance is nice... calm and relaxed.  Service...\n",
              "Name: Reviews, dtype: object"
            ]
          },
          "execution_count": 3,
          "metadata": {},
          "output_type": "execute_result"
        }
      ],
      "source": [
        "df['Reviews'].head()"
      ]
    },
    {
      "cell_type": "code",
      "execution_count": null,
      "metadata": {},
      "outputs": [],
      "source": []
    }
  ],
  "metadata": {
    "colab": {
      "include_colab_link": true,
      "provenance": []
    },
    "kernelspec": {
      "display_name": "Python 3.11.7 ('base')",
      "language": "python",
      "name": "python3"
    },
    "language_info": {
      "codemirror_mode": {
        "name": "ipython",
        "version": 3
      },
      "file_extension": ".py",
      "mimetype": "text/x-python",
      "name": "python",
      "nbconvert_exporter": "python",
      "pygments_lexer": "ipython3",
      "version": "3.11.7"
    },
    "vscode": {
      "interpreter": {
        "hash": "e07b5e0e3a9f1e2c93b333bd7cbf905dd28f51846cc98d0744e35401f427ec31"
      }
    }
  },
  "nbformat": 4,
  "nbformat_minor": 0
}
